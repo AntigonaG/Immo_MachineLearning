{
 "cells": [
  {
   "cell_type": "code",
   "execution_count": 147,
   "metadata": {},
   "outputs": [],
   "source": [
    "#import of libraries\n",
    "import pandas as pd\n",
    "import numpy as np\n",
    "import matplotlib.pyplot as plt\n",
    "import seaborn as sns\n",
    "from sklearn.datasets import make_regression\n",
    "from sklearn.preprocessing import OneHotEncoder\n",
    "from sklearn.model_selection import train_test_split \n",
    "from sklearn.linear_model import LinearRegression\n",
    "from sklearn.metrics import mean_absolute_error,mean_squared_error, r2_score\n",
    "from sklearn.impute import KNNImputer"
   ]
  },
  {
   "cell_type": "code",
   "execution_count": 148,
   "metadata": {},
   "outputs": [
    {
     "name": "stdout",
     "output_type": "stream",
     "text": [
      "<class 'pandas.core.frame.DataFrame'>\n",
      "RangeIndex: 104396 entries, 0 to 104395\n",
      "Data columns (total 15 columns):\n",
      " #   Column                Non-Null Count   Dtype  \n",
      "---  ------                --------------   -----  \n",
      " 0   bathroom_count        104396 non-null  int64  \n",
      " 1   bedroom_count         104396 non-null  int64  \n",
      " 2   garden                20364 non-null   float64\n",
      " 3   garden_area           20364 non-null   float64\n",
      " 4   kitchen               57594 non-null   object \n",
      " 5   living_area           104396 non-null  float64\n",
      " 6   number_of_facades     67698 non-null   float64\n",
      " 7   price                 104396 non-null  int64  \n",
      " 8   surface_of_plot       104396 non-null  float64\n",
      " 9   swimming_pool         104396 non-null  float64\n",
      " 10  terrace               104396 non-null  float64\n",
      " 11  type_of_property      104396 non-null  int64  \n",
      " 12  PEB_grade             104396 non-null  int64  \n",
      " 13  Building_state_grade  104396 non-null  int64  \n",
      " 14  pricesqm              104396 non-null  float64\n",
      "dtypes: float64(8), int64(6), object(1)\n",
      "memory usage: 11.9+ MB\n"
     ]
    }
   ],
   "source": [
    "#load the data\n",
    "df = pd.read_csv(r'C:\\Users\\admin\\Documents\\becode_projects\\second_df.csv')\n",
    "\n",
    "del df['Unnamed: 0']\n",
    "df = df.dropna(subset=['bathroom_count'])\n",
    "df = df.dropna(subset=['bedroom_count'])\n",
    "df = df.dropna(subset=['construction_year'])\n",
    "df = df.dropna(subset=['district'])\n",
    "del df['flooding_zone']\n",
    "\n",
    "del df['subtype_of_property']\n",
    "del df['room_count']\n",
    "del df['district']\n",
    "del df['locality']\n",
    "del df['type_of_sale']\n",
    "del df['construction_year']\n",
    "\n",
    "df.info()"
   ]
  },
  {
   "cell_type": "markdown",
   "metadata": {},
   "source": [
    "Split into houses and appartments"
   ]
  },
  {
   "cell_type": "code",
   "execution_count": 149,
   "metadata": {},
   "outputs": [],
   "source": [
    "houses = df[df['type_of_property'] == 1]\n",
    "appartments = df[df['type_of_property'] == 2]\n",
    "houses.to_csv('df_house.csv')\n",
    "appartments.to_csv('df_appartments.csv')"
   ]
  },
  {
   "cell_type": "code",
   "execution_count": 150,
   "metadata": {},
   "outputs": [
    {
     "name": "stdout",
     "output_type": "stream",
     "text": [
      "<class 'pandas.core.frame.DataFrame'>\n",
      "RangeIndex: 54802 entries, 0 to 54801\n",
      "Data columns (total 16 columns):\n",
      " #   Column                Non-Null Count  Dtype  \n",
      "---  ------                --------------  -----  \n",
      " 0   Unnamed: 0            54802 non-null  int64  \n",
      " 1   bathroom_count        54802 non-null  int64  \n",
      " 2   bedroom_count         54802 non-null  int64  \n",
      " 3   garden                16290 non-null  float64\n",
      " 4   garden_area           16290 non-null  float64\n",
      " 5   kitchen               29694 non-null  object \n",
      " 6   living_area           54802 non-null  float64\n",
      " 7   number_of_facades     43766 non-null  float64\n",
      " 8   price                 54802 non-null  int64  \n",
      " 9   surface_of_plot       54802 non-null  float64\n",
      " 10  swimming_pool         54802 non-null  float64\n",
      " 11  terrace               54802 non-null  float64\n",
      " 12  type_of_property      54802 non-null  int64  \n",
      " 13  PEB_grade             54802 non-null  int64  \n",
      " 14  Building_state_grade  54802 non-null  int64  \n",
      " 15  pricesqm              54802 non-null  float64\n",
      "dtypes: float64(8), int64(7), object(1)\n",
      "memory usage: 6.7+ MB\n"
     ]
    }
   ],
   "source": [
    "df_house =pd.read_csv(r'E:\\2024_Python\\becode_projects\\MachineLearning_Immo\\df_houses.csv')\n",
    "df_house.head()\n",
    "df_house.info()"
   ]
  },
  {
   "cell_type": "code",
   "execution_count": 151,
   "metadata": {},
   "outputs": [
    {
     "name": "stdout",
     "output_type": "stream",
     "text": [
      "<class 'pandas.core.frame.DataFrame'>\n",
      "RangeIndex: 54802 entries, 0 to 54801\n",
      "Data columns (total 16 columns):\n",
      " #   Column                Non-Null Count  Dtype  \n",
      "---  ------                --------------  -----  \n",
      " 0   Unnamed: 0            54802 non-null  int64  \n",
      " 1   bathroom_count        54802 non-null  int64  \n",
      " 2   bedroom_count         54802 non-null  int64  \n",
      " 3   garden                54802 non-null  float64\n",
      " 4   garden_area           16290 non-null  float64\n",
      " 5   kitchen               29694 non-null  object \n",
      " 6   living_area           54802 non-null  float64\n",
      " 7   number_of_facades     43766 non-null  float64\n",
      " 8   price                 54802 non-null  int64  \n",
      " 9   surface_of_plot       54802 non-null  float64\n",
      " 10  swimming_pool         54802 non-null  float64\n",
      " 11  terrace               54802 non-null  float64\n",
      " 12  type_of_property      54802 non-null  int64  \n",
      " 13  PEB_grade             54802 non-null  int64  \n",
      " 14  Building_state_grade  54802 non-null  int64  \n",
      " 15  pricesqm              54802 non-null  float64\n",
      "dtypes: float64(8), int64(7), object(1)\n",
      "memory usage: 6.7+ MB\n"
     ]
    }
   ],
   "source": [
    "df_house[\"garden\"].fillna(0, inplace = True)\n",
    "df_house.info()"
   ]
  },
  {
   "cell_type": "code",
   "execution_count": 152,
   "metadata": {},
   "outputs": [],
   "source": [
    "#imputer = KNNImputer(n_neighbors=5)\n",
    "#df_houses[['garden_area']] = imputer.fit_transform(df_houses[['garden_area']])\n",
    "\n",
    "#df_houses['garden_area'] = df_houses['garden_area'].round().astype(int)"
   ]
  },
  {
   "cell_type": "code",
   "execution_count": 153,
   "metadata": {},
   "outputs": [],
   "source": [
    "kitchen_grade = {'USA_HYPER_EQUIPPED': 8,\n",
    " 'USA_SEMI_EQUIPPED': 7,\n",
    " 'USA_INSTALLED': 6,\n",
    " 'HYPER_EQUIPPED': 5,\n",
    " 'SEMI_EQUIPPED': 4,\n",
    " 'INSTALLED': 3,\n",
    " 'USA_UNINSTALLED': 2,\n",
    " 'NOT_INSTALLED': 1}\n",
    "df_house['kitchen_grade'] = df_house['kitchen'].map(kitchen_grade)\n",
    "df_house.to_csv(\"houses_k.csv\", index = True)\n",
    "df_house[\"kitchen_grade\"].fillna(0, inplace = True)\n",
    "del df_house['kitchen']\n"
   ]
  },
  {
   "cell_type": "code",
   "execution_count": 154,
   "metadata": {},
   "outputs": [],
   "source": [
    "df_house.dropna(subset=['number_of_facades'], inplace=True)\n",
    "del df_house['Unnamed: 0']\n",
    "del df_house['type_of_property']\n",
    "del df_house['surface_of_plot']\n",
    "del df_house['garden_area']\n",
    "del df_house['terrace']\n",
    "del df_house['garden']\n",
    "\n"
   ]
  },
  {
   "cell_type": "code",
   "execution_count": 155,
   "metadata": {},
   "outputs": [],
   "source": [
    "df_house.to_csv('df_houses_C.csv')"
   ]
  },
  {
   "cell_type": "code",
   "execution_count": 156,
   "metadata": {},
   "outputs": [],
   "source": [
    "df = pd.read_csv('df_houses_C.csv')"
   ]
  },
  {
   "cell_type": "code",
   "execution_count": 157,
   "metadata": {},
   "outputs": [
    {
     "data": {
      "text/plain": [
       "Unnamed: 0              0\n",
       "bathroom_count          0\n",
       "bedroom_count           0\n",
       "living_area             0\n",
       "number_of_facades       0\n",
       "price                   0\n",
       "swimming_pool           0\n",
       "PEB_grade               0\n",
       "Building_state_grade    0\n",
       "pricesqm                0\n",
       "kitchen_grade           0\n",
       "dtype: int64"
      ]
     },
     "execution_count": 157,
     "metadata": {},
     "output_type": "execute_result"
    }
   ],
   "source": [
    "df.isnull().sum()\n"
   ]
  },
  {
   "cell_type": "code",
   "execution_count": 158,
   "metadata": {},
   "outputs": [
    {
     "name": "stdout",
     "output_type": "stream",
     "text": [
      "[ 6  2  1  0  3  4  5  9 11  8  7 10 12 15 13 14 18 17 16 19 20]\n"
     ]
    }
   ],
   "source": [
    "df.dtypes\n",
    "df.isnull().sum()\n",
    "kitchen = df[\"bathroom_count\"].unique()\n",
    "print(kitchen)\n",
    "\n"
   ]
  },
  {
   "cell_type": "code",
   "execution_count": 159,
   "metadata": {},
   "outputs": [
    {
     "name": "stdout",
     "output_type": "stream",
     "text": [
      "<class 'pandas.core.frame.DataFrame'>\n",
      "Index: 43741 entries, 0 to 43765\n",
      "Data columns (total 11 columns):\n",
      " #   Column                Non-Null Count  Dtype  \n",
      "---  ------                --------------  -----  \n",
      " 0   Unnamed: 0            43741 non-null  int64  \n",
      " 1   bathroom_count        43741 non-null  int64  \n",
      " 2   bedroom_count         43741 non-null  int64  \n",
      " 3   living_area           43741 non-null  float64\n",
      " 4   number_of_facades     43741 non-null  float64\n",
      " 5   price                 43741 non-null  int64  \n",
      " 6   swimming_pool         43741 non-null  float64\n",
      " 7   PEB_grade             43741 non-null  int64  \n",
      " 8   Building_state_grade  43741 non-null  int64  \n",
      " 9   pricesqm              43741 non-null  float64\n",
      " 10  kitchen_grade         43741 non-null  float64\n",
      "dtypes: float64(5), int64(6)\n",
      "memory usage: 4.0 MB\n"
     ]
    }
   ],
   "source": [
    "df = df[df['bedroom_count'] <= 20]\n",
    "\n",
    "df.info()"
   ]
  },
  {
   "cell_type": "code",
   "execution_count": 160,
   "metadata": {},
   "outputs": [
    {
     "data": {
      "text/html": [
       "<div>\n",
       "<style scoped>\n",
       "    .dataframe tbody tr th:only-of-type {\n",
       "        vertical-align: middle;\n",
       "    }\n",
       "\n",
       "    .dataframe tbody tr th {\n",
       "        vertical-align: top;\n",
       "    }\n",
       "\n",
       "    .dataframe thead th {\n",
       "        text-align: right;\n",
       "    }\n",
       "</style>\n",
       "<table border=\"1\" class=\"dataframe\">\n",
       "  <thead>\n",
       "    <tr style=\"text-align: right;\">\n",
       "      <th></th>\n",
       "      <th>Unnamed: 0</th>\n",
       "      <th>bathroom_count</th>\n",
       "      <th>bedroom_count</th>\n",
       "      <th>living_area</th>\n",
       "      <th>number_of_facades</th>\n",
       "      <th>price</th>\n",
       "      <th>swimming_pool</th>\n",
       "      <th>PEB_grade</th>\n",
       "      <th>Building_state_grade</th>\n",
       "      <th>pricesqm</th>\n",
       "      <th>kitchen_grade</th>\n",
       "    </tr>\n",
       "  </thead>\n",
       "  <tbody>\n",
       "    <tr>\n",
       "      <th>0</th>\n",
       "      <td>0</td>\n",
       "      <td>6</td>\n",
       "      <td>13</td>\n",
       "      <td>391.0</td>\n",
       "      <td>3.0</td>\n",
       "      <td>765000</td>\n",
       "      <td>0.0</td>\n",
       "      <td>4</td>\n",
       "      <td>4</td>\n",
       "      <td>1799.0</td>\n",
       "      <td>0.0</td>\n",
       "    </tr>\n",
       "    <tr>\n",
       "      <th>1</th>\n",
       "      <td>1</td>\n",
       "      <td>2</td>\n",
       "      <td>4</td>\n",
       "      <td>111.0</td>\n",
       "      <td>2.0</td>\n",
       "      <td>399000</td>\n",
       "      <td>0.0</td>\n",
       "      <td>6</td>\n",
       "      <td>4</td>\n",
       "      <td>3670.0</td>\n",
       "      <td>3.0</td>\n",
       "    </tr>\n",
       "    <tr>\n",
       "      <th>2</th>\n",
       "      <td>2</td>\n",
       "      <td>1</td>\n",
       "      <td>4</td>\n",
       "      <td>172.0</td>\n",
       "      <td>2.0</td>\n",
       "      <td>230000</td>\n",
       "      <td>0.0</td>\n",
       "      <td>2</td>\n",
       "      <td>3</td>\n",
       "      <td>3349.0</td>\n",
       "      <td>0.0</td>\n",
       "    </tr>\n",
       "    <tr>\n",
       "      <th>3</th>\n",
       "      <td>3</td>\n",
       "      <td>0</td>\n",
       "      <td>2</td>\n",
       "      <td>172.0</td>\n",
       "      <td>3.0</td>\n",
       "      <td>235000</td>\n",
       "      <td>0.0</td>\n",
       "      <td>2</td>\n",
       "      <td>4</td>\n",
       "      <td>2620.0</td>\n",
       "      <td>0.0</td>\n",
       "    </tr>\n",
       "    <tr>\n",
       "      <th>4</th>\n",
       "      <td>4</td>\n",
       "      <td>3</td>\n",
       "      <td>5</td>\n",
       "      <td>515.0</td>\n",
       "      <td>4.0</td>\n",
       "      <td>1198000</td>\n",
       "      <td>0.0</td>\n",
       "      <td>3</td>\n",
       "      <td>4</td>\n",
       "      <td>2614.0</td>\n",
       "      <td>3.0</td>\n",
       "    </tr>\n",
       "  </tbody>\n",
       "</table>\n",
       "</div>"
      ],
      "text/plain": [
       "   Unnamed: 0  bathroom_count  bedroom_count  living_area  number_of_facades  \\\n",
       "0           0               6             13        391.0                3.0   \n",
       "1           1               2              4        111.0                2.0   \n",
       "2           2               1              4        172.0                2.0   \n",
       "3           3               0              2        172.0                3.0   \n",
       "4           4               3              5        515.0                4.0   \n",
       "\n",
       "     price  swimming_pool  PEB_grade  Building_state_grade  pricesqm  \\\n",
       "0   765000            0.0          4                     4    1799.0   \n",
       "1   399000            0.0          6                     4    3670.0   \n",
       "2   230000            0.0          2                     3    3349.0   \n",
       "3   235000            0.0          2                     4    2620.0   \n",
       "4  1198000            0.0          3                     4    2614.0   \n",
       "\n",
       "   kitchen_grade  \n",
       "0            0.0  \n",
       "1            3.0  \n",
       "2            0.0  \n",
       "3            0.0  \n",
       "4            3.0  "
      ]
     },
     "execution_count": 160,
     "metadata": {},
     "output_type": "execute_result"
    }
   ],
   "source": [
    "df.head()"
   ]
  },
  {
   "cell_type": "code",
   "execution_count": 161,
   "metadata": {},
   "outputs": [],
   "source": [
    "del df['Unnamed: 0']"
   ]
  },
  {
   "cell_type": "markdown",
   "metadata": {},
   "source": [
    "Linear regression"
   ]
  },
  {
   "cell_type": "code",
   "execution_count": 162,
   "metadata": {},
   "outputs": [
    {
     "name": "stdout",
     "output_type": "stream",
     "text": [
      "X shape:  (43741, 9)\n",
      "y shape:  (43741,)\n"
     ]
    }
   ],
   "source": [
    "X = df.drop(columns=[\"price\"])\n",
    "y = df[\"price\"]\n",
    "print(\"X shape: \", X.shape)\n",
    "print(\"y shape: \", y.shape)"
   ]
  },
  {
   "cell_type": "code",
   "execution_count": 163,
   "metadata": {},
   "outputs": [
    {
     "data": {
      "text/html": [
       "<div>\n",
       "<style scoped>\n",
       "    .dataframe tbody tr th:only-of-type {\n",
       "        vertical-align: middle;\n",
       "    }\n",
       "\n",
       "    .dataframe tbody tr th {\n",
       "        vertical-align: top;\n",
       "    }\n",
       "\n",
       "    .dataframe thead th {\n",
       "        text-align: right;\n",
       "    }\n",
       "</style>\n",
       "<table border=\"1\" class=\"dataframe\">\n",
       "  <thead>\n",
       "    <tr style=\"text-align: right;\">\n",
       "      <th></th>\n",
       "      <th>bathroom_count</th>\n",
       "      <th>bedroom_count</th>\n",
       "      <th>living_area</th>\n",
       "      <th>number_of_facades</th>\n",
       "      <th>price</th>\n",
       "      <th>swimming_pool</th>\n",
       "      <th>PEB_grade</th>\n",
       "      <th>Building_state_grade</th>\n",
       "      <th>pricesqm</th>\n",
       "      <th>kitchen_grade</th>\n",
       "    </tr>\n",
       "  </thead>\n",
       "  <tbody>\n",
       "    <tr>\n",
       "      <th>bathroom_count</th>\n",
       "      <td>1.000000</td>\n",
       "      <td>0.537234</td>\n",
       "      <td>0.459138</td>\n",
       "      <td>0.036986</td>\n",
       "      <td>0.442073</td>\n",
       "      <td>0.178579</td>\n",
       "      <td>0.064245</td>\n",
       "      <td>0.099290</td>\n",
       "      <td>0.147189</td>\n",
       "      <td>0.130713</td>\n",
       "    </tr>\n",
       "    <tr>\n",
       "      <th>bedroom_count</th>\n",
       "      <td>0.537234</td>\n",
       "      <td>1.000000</td>\n",
       "      <td>0.492729</td>\n",
       "      <td>0.088714</td>\n",
       "      <td>0.326545</td>\n",
       "      <td>0.128691</td>\n",
       "      <td>0.051805</td>\n",
       "      <td>0.061502</td>\n",
       "      <td>0.102079</td>\n",
       "      <td>0.099132</td>\n",
       "    </tr>\n",
       "    <tr>\n",
       "      <th>living_area</th>\n",
       "      <td>0.459138</td>\n",
       "      <td>0.492729</td>\n",
       "      <td>1.000000</td>\n",
       "      <td>0.176961</td>\n",
       "      <td>0.521388</td>\n",
       "      <td>0.249415</td>\n",
       "      <td>0.086107</td>\n",
       "      <td>0.091561</td>\n",
       "      <td>0.146860</td>\n",
       "      <td>0.076806</td>\n",
       "    </tr>\n",
       "    <tr>\n",
       "      <th>number_of_facades</th>\n",
       "      <td>0.036986</td>\n",
       "      <td>0.088714</td>\n",
       "      <td>0.176961</td>\n",
       "      <td>1.000000</td>\n",
       "      <td>0.202640</td>\n",
       "      <td>0.181432</td>\n",
       "      <td>0.012511</td>\n",
       "      <td>0.055325</td>\n",
       "      <td>-0.015126</td>\n",
       "      <td>0.001994</td>\n",
       "    </tr>\n",
       "    <tr>\n",
       "      <th>price</th>\n",
       "      <td>0.442073</td>\n",
       "      <td>0.326545</td>\n",
       "      <td>0.521388</td>\n",
       "      <td>0.202640</td>\n",
       "      <td>1.000000</td>\n",
       "      <td>0.281142</td>\n",
       "      <td>0.168322</td>\n",
       "      <td>0.186540</td>\n",
       "      <td>0.364482</td>\n",
       "      <td>0.122004</td>\n",
       "    </tr>\n",
       "    <tr>\n",
       "      <th>swimming_pool</th>\n",
       "      <td>0.178579</td>\n",
       "      <td>0.128691</td>\n",
       "      <td>0.249415</td>\n",
       "      <td>0.181432</td>\n",
       "      <td>0.281142</td>\n",
       "      <td>1.000000</td>\n",
       "      <td>0.073067</td>\n",
       "      <td>0.116426</td>\n",
       "      <td>0.036987</td>\n",
       "      <td>0.104343</td>\n",
       "    </tr>\n",
       "    <tr>\n",
       "      <th>PEB_grade</th>\n",
       "      <td>0.064245</td>\n",
       "      <td>0.051805</td>\n",
       "      <td>0.086107</td>\n",
       "      <td>0.012511</td>\n",
       "      <td>0.168322</td>\n",
       "      <td>0.073067</td>\n",
       "      <td>1.000000</td>\n",
       "      <td>0.459713</td>\n",
       "      <td>0.068142</td>\n",
       "      <td>0.057434</td>\n",
       "    </tr>\n",
       "    <tr>\n",
       "      <th>Building_state_grade</th>\n",
       "      <td>0.099290</td>\n",
       "      <td>0.061502</td>\n",
       "      <td>0.091561</td>\n",
       "      <td>0.055325</td>\n",
       "      <td>0.186540</td>\n",
       "      <td>0.116426</td>\n",
       "      <td>0.459713</td>\n",
       "      <td>1.000000</td>\n",
       "      <td>0.044351</td>\n",
       "      <td>0.142503</td>\n",
       "    </tr>\n",
       "    <tr>\n",
       "      <th>pricesqm</th>\n",
       "      <td>0.147189</td>\n",
       "      <td>0.102079</td>\n",
       "      <td>0.146860</td>\n",
       "      <td>-0.015126</td>\n",
       "      <td>0.364482</td>\n",
       "      <td>0.036987</td>\n",
       "      <td>0.068142</td>\n",
       "      <td>0.044351</td>\n",
       "      <td>1.000000</td>\n",
       "      <td>0.045356</td>\n",
       "    </tr>\n",
       "    <tr>\n",
       "      <th>kitchen_grade</th>\n",
       "      <td>0.130713</td>\n",
       "      <td>0.099132</td>\n",
       "      <td>0.076806</td>\n",
       "      <td>0.001994</td>\n",
       "      <td>0.122004</td>\n",
       "      <td>0.104343</td>\n",
       "      <td>0.057434</td>\n",
       "      <td>0.142503</td>\n",
       "      <td>0.045356</td>\n",
       "      <td>1.000000</td>\n",
       "    </tr>\n",
       "  </tbody>\n",
       "</table>\n",
       "</div>"
      ],
      "text/plain": [
       "                      bathroom_count  bedroom_count  living_area  \\\n",
       "bathroom_count              1.000000       0.537234     0.459138   \n",
       "bedroom_count               0.537234       1.000000     0.492729   \n",
       "living_area                 0.459138       0.492729     1.000000   \n",
       "number_of_facades           0.036986       0.088714     0.176961   \n",
       "price                       0.442073       0.326545     0.521388   \n",
       "swimming_pool               0.178579       0.128691     0.249415   \n",
       "PEB_grade                   0.064245       0.051805     0.086107   \n",
       "Building_state_grade        0.099290       0.061502     0.091561   \n",
       "pricesqm                    0.147189       0.102079     0.146860   \n",
       "kitchen_grade               0.130713       0.099132     0.076806   \n",
       "\n",
       "                      number_of_facades     price  swimming_pool  PEB_grade  \\\n",
       "bathroom_count                 0.036986  0.442073       0.178579   0.064245   \n",
       "bedroom_count                  0.088714  0.326545       0.128691   0.051805   \n",
       "living_area                    0.176961  0.521388       0.249415   0.086107   \n",
       "number_of_facades              1.000000  0.202640       0.181432   0.012511   \n",
       "price                          0.202640  1.000000       0.281142   0.168322   \n",
       "swimming_pool                  0.181432  0.281142       1.000000   0.073067   \n",
       "PEB_grade                      0.012511  0.168322       0.073067   1.000000   \n",
       "Building_state_grade           0.055325  0.186540       0.116426   0.459713   \n",
       "pricesqm                      -0.015126  0.364482       0.036987   0.068142   \n",
       "kitchen_grade                  0.001994  0.122004       0.104343   0.057434   \n",
       "\n",
       "                      Building_state_grade  pricesqm  kitchen_grade  \n",
       "bathroom_count                    0.099290  0.147189       0.130713  \n",
       "bedroom_count                     0.061502  0.102079       0.099132  \n",
       "living_area                       0.091561  0.146860       0.076806  \n",
       "number_of_facades                 0.055325 -0.015126       0.001994  \n",
       "price                             0.186540  0.364482       0.122004  \n",
       "swimming_pool                     0.116426  0.036987       0.104343  \n",
       "PEB_grade                         0.459713  0.068142       0.057434  \n",
       "Building_state_grade              1.000000  0.044351       0.142503  \n",
       "pricesqm                          0.044351  1.000000       0.045356  \n",
       "kitchen_grade                     0.142503  0.045356       1.000000  "
      ]
     },
     "execution_count": 163,
     "metadata": {},
     "output_type": "execute_result"
    }
   ],
   "source": [
    "df.corr()"
   ]
  },
  {
   "cell_type": "code",
   "execution_count": 164,
   "metadata": {},
   "outputs": [
    {
     "name": "stderr",
     "output_type": "stream",
     "text": [
      "c:\\Users\\admin\\anaconda3\\Lib\\site-packages\\seaborn\\matrix.py:250: FutureWarning: Format strings passed to MaskedConstant are ignored, but in future may error or produce different behavior\n",
      "  annotation = (\"{:\" + self.fmt + \"}\").format(val)\n"
     ]
    },
    {
     "data": {
      "image/png": "[encoded data removed]",
      "text/plain": [
       "<Figure size 640x480 with 2 Axes>"
      ]
     },
     "metadata": {},
     "output_type": "display_data"
    }
   ],
   "source": [
    "corr_matrix = df.corr()\n",
    "corr_matrix_np = corr_matrix.values\n",
    "np.fill_diagonal(corr_matrix_np, 1)\n",
    "corr_matrix = pd.DataFrame(corr_matrix_np, index=corr_matrix.index, columns=corr_matrix.columns)\n",
    "mask = np.triu(np.ones_like(corr_matrix, dtype=bool))\n",
    "sns.heatmap(corr_matrix, mask=mask, annot=True, cmap=\"inferno\", vmax=1, vmin=-1, fmt='.1f')\n",
    "plt.title(\"Correlations\")\n",
    "plt.show()"
   ]
  },
  {
   "cell_type": "code",
   "execution_count": 165,
   "metadata": {},
   "outputs": [
    {
     "name": "stdout",
     "output_type": "stream",
     "text": [
      "Shape of X_train:  (34992, 9)\n",
      "Shape of X_test:  (8749, 9)\n",
      "Shape of y_train:  (34992,)\n",
      "Shape of y_test:  (8749,)\n"
     ]
    }
   ],
   "source": [
    "X_train, X_test, y_train, y_test = train_test_split(X, y, test_size=0.2, random_state=42)\n",
    "print(\"Shape of X_train: \", X_train.shape)\n",
    "print(\"Shape of X_test: \", X_test.shape)\n",
    "print(\"Shape of y_train: \", y_train.shape)\n",
    "print(\"Shape of y_test: \", y_test.shape)"
   ]
  },
  {
   "cell_type": "markdown",
   "metadata": {},
   "source": [
    "# KNeighbors Regressor"
   ]
  },
  {
   "cell_type": "code",
   "execution_count": 166,
   "metadata": {},
   "outputs": [
    {
     "name": "stdout",
     "output_type": "stream",
     "text": [
      "KNeighborsRegressor(n_neighbors=2)\n",
      "R2 Value: 0.8589765710773575\n",
      "Accuracy: 67.4779828343018\n",
      "       bathroom_count  bedroom_count  living_area  number_of_facades  \\\n",
      "5531                2              4        374.0                4.0   \n",
      "8285                1              4        140.0                4.0   \n",
      "30242               2              4        160.0                4.0   \n",
      "42420               2              2        100.0                2.0   \n",
      "34305               1              3        157.0                2.0   \n",
      "\n",
      "       swimming_pool  PEB_grade  Building_state_grade  pricesqm  \\\n",
      "5531             0.0          6                     4    2716.0   \n",
      "8285             0.0          5                     3    1507.0   \n",
      "30242            0.0          6                     5    2716.0   \n",
      "42420            0.0          3                     5    1812.0   \n",
      "34305            0.0          2                     4    2151.0   \n",
      "\n",
      "       kitchen_grade  Predicted  Actual  \n",
      "5531             3.0   762500.0  925000  \n",
      "8285             3.0   203500.0  299000  \n",
      "30242            1.0   493500.0  875000  \n",
      "42420            3.0   139500.0  160000  \n",
      "34305            3.0   274000.0  249000  \n"
     ]
    }
   ],
   "source": [
    "from sklearn.neighbors import KNeighborsRegressor\n",
    "\n",
    "RegModel = KNeighborsRegressor(n_neighbors=2)\n",
    "\n",
    "\n",
    "print(RegModel)\n",
    "\n",
    "# Fit the model on training data\n",
    "KNN = RegModel.fit(X_train, y_train)\n",
    "prediction = KNN.predict(X_test)\n",
    "\n",
    "print('R2 Value:', metrics.r2_score(y_train, KNN.predict(X_train)))\n",
    "\n",
    "accuracy = 100 - (np.mean(np.abs((y_test - prediction) / y_test)) * 100)\n",
    "print('Accuracy:', accuracy)\n",
    "\n",
    "\n",
    "TestingDataResults = pd.DataFrame(data=X_test, columns=X.columns)\n",
    "TestingDataResults[\"Predicted\"] = prediction\n",
    "TestingDataResults[\"Actual\"] = y_test.values\n",
    "\n",
    "\n",
    "print(TestingDataResults.head())\n"
   ]
  },
  {
   "cell_type": "markdown",
   "metadata": {},
   "source": [
    "      kitchen_grade  Predicted  Actual  \n",
    "5531             3.0   762500.0  925000  \n",
    "8285             3.0   203500.0  299000  \n",
    "30242            1.0   493500.0  875000  \n",
    "42420            3.0   139500.0  160000  \n",
    "34305            3.0   274000.0  249000  \n"
   ]
  },
  {
   "cell_type": "markdown",
   "metadata": {},
   "source": [
    "# Polynomial regression"
   ]
  },
  {
   "cell_type": "code",
   "execution_count": 167,
   "metadata": {},
   "outputs": [
    {
     "name": "stdout",
     "output_type": "stream",
     "text": [
      "MAE on train data=  145807.0235065016\n",
      "MAE on test data =  142292.37482666946\n"
     ]
    }
   ],
   "source": [
    "from sklearn.model_selection import train_test_split\n",
    "from sklearn.linear_model import LinearRegression\n",
    "from sklearn import metrics\n",
    "from sklearn.preprocessing import PolynomialFeatures\n",
    "# Step 4: Generating polynomial features \n",
    "Z = PolynomialFeatures(degree=2, include_bias=False).fit_transform(X)\n",
    "# Dividing the dataset into test and train data\n",
    "X_train, X_test, y_train, y_test = train_test_split(Z, y, test_size=0.3, random_state=10)\n",
    "\n",
    "# Step 5: Selecting the linear regression method from the scikit-learn library\n",
    "model = LinearRegression().fit(X_train, y_train)\n",
    "\n",
    "# Step 6: Validation\n",
    "# Evaluating the trained model on training data\n",
    "y_prediction = model.predict(X_train)\n",
    "print(\"MAE on train data= \" , metrics.mean_absolute_error(y_train, y_prediction))\n",
    "# Evaluating our trained model on test data\n",
    "y_prediction = model.predict(X_test)\n",
    "print(\"MAE on test data = \" , metrics.mean_absolute_error(y_test, y_prediction))"
   ]
  },
  {
   "cell_type": "markdown",
   "metadata": {},
   "source": [
    "# Linear regression"
   ]
  },
  {
   "cell_type": "code",
   "execution_count": 168,
   "metadata": {},
   "outputs": [
    {
     "data": {
      "text/html": [
       "<style>#sk-container-id-3 {color: black;background-color: white;}#sk-container-id-3 pre{padding: 0;}#sk-container-id-3 div.sk-toggleable {background-color: white;}#sk-container-id-3 label.sk-toggleable__label {cursor: pointer;display: block;width: 100%;margin-bottom: 0;padding: 0.3em;box-sizing: border-box;text-align: center;}#sk-container-id-3 label.sk-toggleable__label-arrow:before {content: \"▸\";float: left;margin-right: 0.25em;color: #696969;}#sk-container-id-3 label.sk-toggleable__label-arrow:hover:before {color: black;}#sk-container-id-3 div.sk-estimator:hover label.sk-toggleable__label-arrow:before {color: black;}#sk-container-id-3 div.sk-toggleable__content {max-height: 0;max-width: 0;overflow: hidden;text-align: left;background-color: #f0f8ff;}#sk-container-id-3 div.sk-toggleable__content pre {margin: 0.2em;color: black;border-radius: 0.25em;background-color: #f0f8ff;}#sk-container-id-3 input.sk-toggleable__control:checked~div.sk-toggleable__content {max-height: 200px;max-width: 100%;overflow: auto;}#sk-container-id-3 input.sk-toggleable__control:checked~label.sk-toggleable__label-arrow:before {content: \"▾\";}#sk-container-id-3 div.sk-estimator input.sk-toggleable__control:checked~label.sk-toggleable__label {background-color: #d4ebff;}#sk-container-id-3 div.sk-label input.sk-toggleable__control:checked~label.sk-toggleable__label {background-color: #d4ebff;}#sk-container-id-3 input.sk-hidden--visually {border: 0;clip: rect(1px 1px 1px 1px);clip: rect(1px, 1px, 1px, 1px);height: 1px;margin: -1px;overflow: hidden;padding: 0;position: absolute;width: 1px;}#sk-container-id-3 div.sk-estimator {font-family: monospace;background-color: #f0f8ff;border: 1px dotted black;border-radius: 0.25em;box-sizing: border-box;margin-bottom: 0.5em;}#sk-container-id-3 div.sk-estimator:hover {background-color: #d4ebff;}#sk-container-id-3 div.sk-parallel-item::after {content: \"\";width: 100%;border-bottom: 1px solid gray;flex-grow: 1;}#sk-container-id-3 div.sk-label:hover label.sk-toggleable__label {background-color: #d4ebff;}#sk-container-id-3 div.sk-serial::before {content: \"\";position: absolute;border-left: 1px solid gray;box-sizing: border-box;top: 0;bottom: 0;left: 50%;z-index: 0;}#sk-container-id-3 div.sk-serial {display: flex;flex-direction: column;align-items: center;background-color: white;padding-right: 0.2em;padding-left: 0.2em;position: relative;}#sk-container-id-3 div.sk-item {position: relative;z-index: 1;}#sk-container-id-3 div.sk-parallel {display: flex;align-items: stretch;justify-content: center;background-color: white;position: relative;}#sk-container-id-3 div.sk-item::before, #sk-container-id-3 div.sk-parallel-item::before {content: \"\";position: absolute;border-left: 1px solid gray;box-sizing: border-box;top: 0;bottom: 0;left: 50%;z-index: -1;}#sk-container-id-3 div.sk-parallel-item {display: flex;flex-direction: column;z-index: 1;position: relative;background-color: white;}#sk-container-id-3 div.sk-parallel-item:first-child::after {align-self: flex-end;width: 50%;}#sk-container-id-3 div.sk-parallel-item:last-child::after {align-self: flex-start;width: 50%;}#sk-container-id-3 div.sk-parallel-item:only-child::after {width: 0;}#sk-container-id-3 div.sk-dashed-wrapped {border: 1px dashed gray;margin: 0 0.4em 0.5em 0.4em;box-sizing: border-box;padding-bottom: 0.4em;background-color: white;}#sk-container-id-3 div.sk-label label {font-family: monospace;font-weight: bold;display: inline-block;line-height: 1.2em;}#sk-container-id-3 div.sk-label-container {text-align: center;}#sk-container-id-3 div.sk-container {/* jupyter's `normalize.less` sets `[hidden] { display: none; }` but bootstrap.min.css set `[hidden] { display: none !important; }` so we also need the `!important` here to be able to override the default hidden behavior on the sphinx rendered scikit-learn.org. See: https://github.com/scikit-learn/scikit-learn/issues/21755 */display: inline-block !important;position: relative;}#sk-container-id-3 div.sk-text-repr-fallback {display: none;}</style><div id=\"sk-container-id-3\" class=\"sk-top-container\"><div class=\"sk-text-repr-fallback\"><pre>LinearRegression()</pre><b>In a Jupyter environment, please rerun this cell to show the HTML representation or trust the notebook. <br />On GitHub, the HTML representation is unable to render, please try loading this page with nbviewer.org.</b></div><div class=\"sk-container\" hidden><div class=\"sk-item\"><div class=\"sk-estimator sk-toggleable\"><input class=\"sk-toggleable__control sk-hidden--visually\" id=\"sk-estimator-id-3\" type=\"checkbox\" checked><label for=\"sk-estimator-id-3\" class=\"sk-toggleable__label sk-toggleable__label-arrow\">LinearRegression</label><div class=\"sk-toggleable__content\"><pre>LinearRegression()</pre></div></div></div></div></div>"
      ],
      "text/plain": [
       "LinearRegression()"
      ]
     },
     "execution_count": 168,
     "metadata": {},
     "output_type": "execute_result"
    }
   ],
   "source": [
    "from sklearn.linear_model import LinearRegression\n",
    "regressor = LinearRegression()\n",
    "regressor = LinearRegression() # Instatiate LinearREgression object\n",
    "regressor.fit(X_train, y_train) # fit the model"
   ]
  },
  {
   "cell_type": "code",
   "execution_count": 169,
   "metadata": {},
   "outputs": [
    {
     "data": {
      "text/plain": [
       "array([-4.73984180e+05,  5.98837124e+04, -2.14431318e+03, -2.32022452e+05,\n",
       "       -5.32369392e+05,  1.61275069e+04,  5.20807347e+03, -7.65893582e+02,\n",
       "       -4.80951769e+04,  1.62089860e+03, -4.31474233e+03,  3.23260509e+01,\n",
       "        4.23439119e+04,  1.16263152e+05,  1.38363419e+04,  1.01201216e+04,\n",
       "        1.38994088e+02,  1.20117336e+03,  3.71710380e+03, -8.60607444e+01,\n",
       "        3.90255430e+02,  3.81196503e+03, -1.97565920e+02, -8.22718836e+03,\n",
       "       -1.10992659e+01,  2.07785295e+03,  5.37897757e-01,  1.23141165e+02,\n",
       "       -2.95226488e+02, -1.74621829e+01,  2.02381693e+02,  9.37109399e-01,\n",
       "       -2.48113037e+01,  2.34926712e+04,  5.30953624e+04, -1.32493475e+03,\n",
       "       -5.04553710e+03,  4.25342819e+01,  3.47906771e+03, -5.32369394e+05,\n",
       "        1.99234584e+04, -5.06223646e+03,  3.18007605e+02,  2.30718174e+04,\n",
       "       -1.34066374e+03,  2.89783580e+03,  3.91161848e-01, -5.18811763e+02,\n",
       "        7.27488491e+02, -2.90189462e-01, -3.97417185e+03,  9.88097279e-02,\n",
       "        1.99812095e+01,  1.97178957e+03])"
      ]
     },
     "execution_count": 169,
     "metadata": {},
     "output_type": "execute_result"
    }
   ],
   "source": [
    "regressor.coef_"
   ]
  },
  {
   "cell_type": "code",
   "execution_count": 170,
   "metadata": {},
   "outputs": [
    {
     "data": {
      "text/plain": [
       "1425933.0363002429"
      ]
     },
     "execution_count": 170,
     "metadata": {},
     "output_type": "execute_result"
    }
   ],
   "source": [
    "\n",
    "regressor.intercept_"
   ]
  },
  {
   "cell_type": "code",
   "execution_count": 171,
   "metadata": {},
   "outputs": [
    {
     "data": {
      "text/plain": [
       "array([961868.71484506, 191826.33589066, 301347.05089142, ...,\n",
       "       365571.49122741, 423399.06387309, 416689.888389  ])"
      ]
     },
     "execution_count": 171,
     "metadata": {},
     "output_type": "execute_result"
    }
   ],
   "source": [
    "y_pred = regressor.predict(X_test)\n",
    "y_pred"
   ]
  },
  {
   "cell_type": "code",
   "execution_count": 172,
   "metadata": {},
   "outputs": [
    {
     "data": {
      "text/plain": [
       "26234   -216868.714845\n",
       "23085     57173.664109\n",
       "35627   -118847.050891\n",
       "33700    201208.876123\n",
       "10702    -10786.109757\n",
       "             ...      \n",
       "14547     40932.719482\n",
       "24910    -11808.636398\n",
       "34249    -16571.491227\n",
       "19354    -35899.063873\n",
       "3900      82310.111611\n",
       "Name: price, Length: 13123, dtype: float64"
      ]
     },
     "execution_count": 172,
     "metadata": {},
     "output_type": "execute_result"
    }
   ],
   "source": [
    "residuals = y_test - y_pred\n",
    "residuals"
   ]
  },
  {
   "cell_type": "code",
   "execution_count": 173,
   "metadata": {},
   "outputs": [
    {
     "data": {
      "text/plain": [
       "0.5665611559431829"
      ]
     },
     "execution_count": 173,
     "metadata": {},
     "output_type": "execute_result"
    }
   ],
   "source": [
    "score = r2_score(y_test, y_pred)\n",
    "score"
   ]
  },
  {
   "cell_type": "code",
   "execution_count": 174,
   "metadata": {},
   "outputs": [
    {
     "name": "stdout",
     "output_type": "stream",
     "text": [
      "142292.37482666946\n"
     ]
    }
   ],
   "source": [
    "from sklearn.metrics import mean_absolute_error\n",
    "mae = mean_absolute_error(y_test, y_pred)\n",
    "print(mae)"
   ]
  },
  {
   "cell_type": "markdown",
   "metadata": {},
   "source": [
    "142292.37482666946"
   ]
  },
  {
   "cell_type": "code",
   "execution_count": 175,
   "metadata": {},
   "outputs": [],
   "source": [
    "from sklearn.linear_model import LogisticRegression\n",
    "\n",
    "#logreg = LogisticRegression(solver='newton-cg')\n",
    "#logreg.fit(X_train, y_train)\n",
    "\n",
    "#y_pred = logreg.predict_proba(X_test)[:,1]\n",
    "\n",
    "\n"
   ]
  },
  {
   "cell_type": "markdown",
   "metadata": {},
   "source": [
    "# XGBoost regression"
   ]
  },
  {
   "cell_type": "code",
   "execution_count": 184,
   "metadata": {},
   "outputs": [],
   "source": [
    "\n",
    "X = df.drop(columns=[\"price\"])\n",
    "y = df[\"price\"]\n",
    "\n"
   ]
  },
  {
   "cell_type": "code",
   "execution_count": 185,
   "metadata": {},
   "outputs": [
    {
     "name": "stdout",
     "output_type": "stream",
     "text": [
      "X shape:  (43741, 9)\n",
      "y shape:  (43741,)\n"
     ]
    }
   ],
   "source": [
    "print(\"X shape: \", X.shape)\n",
    "print(\"y shape: \", y.shape)"
   ]
  },
  {
   "cell_type": "code",
   "execution_count": 186,
   "metadata": {},
   "outputs": [
    {
     "data": {
      "text/html": [
       "<div>\n",
       "<style scoped>\n",
       "    .dataframe tbody tr th:only-of-type {\n",
       "        vertical-align: middle;\n",
       "    }\n",
       "\n",
       "    .dataframe tbody tr th {\n",
       "        vertical-align: top;\n",
       "    }\n",
       "\n",
       "    .dataframe thead th {\n",
       "        text-align: right;\n",
       "    }\n",
       "</style>\n",
       "<table border=\"1\" class=\"dataframe\">\n",
       "  <thead>\n",
       "    <tr style=\"text-align: right;\">\n",
       "      <th></th>\n",
       "      <th>bathroom_count</th>\n",
       "      <th>bedroom_count</th>\n",
       "      <th>living_area</th>\n",
       "      <th>number_of_facades</th>\n",
       "      <th>price</th>\n",
       "      <th>swimming_pool</th>\n",
       "      <th>PEB_grade</th>\n",
       "      <th>Building_state_grade</th>\n",
       "      <th>pricesqm</th>\n",
       "      <th>kitchen_grade</th>\n",
       "    </tr>\n",
       "  </thead>\n",
       "  <tbody>\n",
       "    <tr>\n",
       "      <th>bathroom_count</th>\n",
       "      <td>1.000000</td>\n",
       "      <td>0.537234</td>\n",
       "      <td>0.459138</td>\n",
       "      <td>0.036986</td>\n",
       "      <td>0.442073</td>\n",
       "      <td>0.178579</td>\n",
       "      <td>0.064245</td>\n",
       "      <td>0.099290</td>\n",
       "      <td>0.147189</td>\n",
       "      <td>0.130713</td>\n",
       "    </tr>\n",
       "    <tr>\n",
       "      <th>bedroom_count</th>\n",
       "      <td>0.537234</td>\n",
       "      <td>1.000000</td>\n",
       "      <td>0.492729</td>\n",
       "      <td>0.088714</td>\n",
       "      <td>0.326545</td>\n",
       "      <td>0.128691</td>\n",
       "      <td>0.051805</td>\n",
       "      <td>0.061502</td>\n",
       "      <td>0.102079</td>\n",
       "      <td>0.099132</td>\n",
       "    </tr>\n",
       "    <tr>\n",
       "      <th>living_area</th>\n",
       "      <td>0.459138</td>\n",
       "      <td>0.492729</td>\n",
       "      <td>1.000000</td>\n",
       "      <td>0.176961</td>\n",
       "      <td>0.521388</td>\n",
       "      <td>0.249415</td>\n",
       "      <td>0.086107</td>\n",
       "      <td>0.091561</td>\n",
       "      <td>0.146860</td>\n",
       "      <td>0.076806</td>\n",
       "    </tr>\n",
       "    <tr>\n",
       "      <th>number_of_facades</th>\n",
       "      <td>0.036986</td>\n",
       "      <td>0.088714</td>\n",
       "      <td>0.176961</td>\n",
       "      <td>1.000000</td>\n",
       "      <td>0.202640</td>\n",
       "      <td>0.181432</td>\n",
       "      <td>0.012511</td>\n",
       "      <td>0.055325</td>\n",
       "      <td>-0.015126</td>\n",
       "      <td>0.001994</td>\n",
       "    </tr>\n",
       "    <tr>\n",
       "      <th>price</th>\n",
       "      <td>0.442073</td>\n",
       "      <td>0.326545</td>\n",
       "      <td>0.521388</td>\n",
       "      <td>0.202640</td>\n",
       "      <td>1.000000</td>\n",
       "      <td>0.281142</td>\n",
       "      <td>0.168322</td>\n",
       "      <td>0.186540</td>\n",
       "      <td>0.364482</td>\n",
       "      <td>0.122004</td>\n",
       "    </tr>\n",
       "    <tr>\n",
       "      <th>swimming_pool</th>\n",
       "      <td>0.178579</td>\n",
       "      <td>0.128691</td>\n",
       "      <td>0.249415</td>\n",
       "      <td>0.181432</td>\n",
       "      <td>0.281142</td>\n",
       "      <td>1.000000</td>\n",
       "      <td>0.073067</td>\n",
       "      <td>0.116426</td>\n",
       "      <td>0.036987</td>\n",
       "      <td>0.104343</td>\n",
       "    </tr>\n",
       "    <tr>\n",
       "      <th>PEB_grade</th>\n",
       "      <td>0.064245</td>\n",
       "      <td>0.051805</td>\n",
       "      <td>0.086107</td>\n",
       "      <td>0.012511</td>\n",
       "      <td>0.168322</td>\n",
       "      <td>0.073067</td>\n",
       "      <td>1.000000</td>\n",
       "      <td>0.459713</td>\n",
       "      <td>0.068142</td>\n",
       "      <td>0.057434</td>\n",
       "    </tr>\n",
       "    <tr>\n",
       "      <th>Building_state_grade</th>\n",
       "      <td>0.099290</td>\n",
       "      <td>0.061502</td>\n",
       "      <td>0.091561</td>\n",
       "      <td>0.055325</td>\n",
       "      <td>0.186540</td>\n",
       "      <td>0.116426</td>\n",
       "      <td>0.459713</td>\n",
       "      <td>1.000000</td>\n",
       "      <td>0.044351</td>\n",
       "      <td>0.142503</td>\n",
       "    </tr>\n",
       "    <tr>\n",
       "      <th>pricesqm</th>\n",
       "      <td>0.147189</td>\n",
       "      <td>0.102079</td>\n",
       "      <td>0.146860</td>\n",
       "      <td>-0.015126</td>\n",
       "      <td>0.364482</td>\n",
       "      <td>0.036987</td>\n",
       "      <td>0.068142</td>\n",
       "      <td>0.044351</td>\n",
       "      <td>1.000000</td>\n",
       "      <td>0.045356</td>\n",
       "    </tr>\n",
       "    <tr>\n",
       "      <th>kitchen_grade</th>\n",
       "      <td>0.130713</td>\n",
       "      <td>0.099132</td>\n",
       "      <td>0.076806</td>\n",
       "      <td>0.001994</td>\n",
       "      <td>0.122004</td>\n",
       "      <td>0.104343</td>\n",
       "      <td>0.057434</td>\n",
       "      <td>0.142503</td>\n",
       "      <td>0.045356</td>\n",
       "      <td>1.000000</td>\n",
       "    </tr>\n",
       "  </tbody>\n",
       "</table>\n",
       "</div>"
      ],
      "text/plain": [
       "                      bathroom_count  bedroom_count  living_area  \\\n",
       "bathroom_count              1.000000       0.537234     0.459138   \n",
       "bedroom_count               0.537234       1.000000     0.492729   \n",
       "living_area                 0.459138       0.492729     1.000000   \n",
       "number_of_facades           0.036986       0.088714     0.176961   \n",
       "price                       0.442073       0.326545     0.521388   \n",
       "swimming_pool               0.178579       0.128691     0.249415   \n",
       "PEB_grade                   0.064245       0.051805     0.086107   \n",
       "Building_state_grade        0.099290       0.061502     0.091561   \n",
       "pricesqm                    0.147189       0.102079     0.146860   \n",
       "kitchen_grade               0.130713       0.099132     0.076806   \n",
       "\n",
       "                      number_of_facades     price  swimming_pool  PEB_grade  \\\n",
       "bathroom_count                 0.036986  0.442073       0.178579   0.064245   \n",
       "bedroom_count                  0.088714  0.326545       0.128691   0.051805   \n",
       "living_area                    0.176961  0.521388       0.249415   0.086107   \n",
       "number_of_facades              1.000000  0.202640       0.181432   0.012511   \n",
       "price                          0.202640  1.000000       0.281142   0.168322   \n",
       "swimming_pool                  0.181432  0.281142       1.000000   0.073067   \n",
       "PEB_grade                      0.012511  0.168322       0.073067   1.000000   \n",
       "Building_state_grade           0.055325  0.186540       0.116426   0.459713   \n",
       "pricesqm                      -0.015126  0.364482       0.036987   0.068142   \n",
       "kitchen_grade                  0.001994  0.122004       0.104343   0.057434   \n",
       "\n",
       "                      Building_state_grade  pricesqm  kitchen_grade  \n",
       "bathroom_count                    0.099290  0.147189       0.130713  \n",
       "bedroom_count                     0.061502  0.102079       0.099132  \n",
       "living_area                       0.091561  0.146860       0.076806  \n",
       "number_of_facades                 0.055325 -0.015126       0.001994  \n",
       "price                             0.186540  0.364482       0.122004  \n",
       "swimming_pool                     0.116426  0.036987       0.104343  \n",
       "PEB_grade                         0.459713  0.068142       0.057434  \n",
       "Building_state_grade              1.000000  0.044351       0.142503  \n",
       "pricesqm                          0.044351  1.000000       0.045356  \n",
       "kitchen_grade                     0.142503  0.045356       1.000000  "
      ]
     },
     "execution_count": 186,
     "metadata": {},
     "output_type": "execute_result"
    }
   ],
   "source": [
    "df.corr()\n"
   ]
  },
  {
   "cell_type": "code",
   "execution_count": 187,
   "metadata": {},
   "outputs": [
    {
     "data": {
      "text/html": [
       "<style>#sk-container-id-4 {color: black;background-color: white;}#sk-container-id-4 pre{padding: 0;}#sk-container-id-4 div.sk-toggleable {background-color: white;}#sk-container-id-4 label.sk-toggleable__label {cursor: pointer;display: block;width: 100%;margin-bottom: 0;padding: 0.3em;box-sizing: border-box;text-align: center;}#sk-container-id-4 label.sk-toggleable__label-arrow:before {content: \"▸\";float: left;margin-right: 0.25em;color: #696969;}#sk-container-id-4 label.sk-toggleable__label-arrow:hover:before {color: black;}#sk-container-id-4 div.sk-estimator:hover label.sk-toggleable__label-arrow:before {color: black;}#sk-container-id-4 div.sk-toggleable__content {max-height: 0;max-width: 0;overflow: hidden;text-align: left;background-color: #f0f8ff;}#sk-container-id-4 div.sk-toggleable__content pre {margin: 0.2em;color: black;border-radius: 0.25em;background-color: #f0f8ff;}#sk-container-id-4 input.sk-toggleable__control:checked~div.sk-toggleable__content {max-height: 200px;max-width: 100%;overflow: auto;}#sk-container-id-4 input.sk-toggleable__control:checked~label.sk-toggleable__label-arrow:before {content: \"▾\";}#sk-container-id-4 div.sk-estimator input.sk-toggleable__control:checked~label.sk-toggleable__label {background-color: #d4ebff;}#sk-container-id-4 div.sk-label input.sk-toggleable__control:checked~label.sk-toggleable__label {background-color: #d4ebff;}#sk-container-id-4 input.sk-hidden--visually {border: 0;clip: rect(1px 1px 1px 1px);clip: rect(1px, 1px, 1px, 1px);height: 1px;margin: -1px;overflow: hidden;padding: 0;position: absolute;width: 1px;}#sk-container-id-4 div.sk-estimator {font-family: monospace;background-color: #f0f8ff;border: 1px dotted black;border-radius: 0.25em;box-sizing: border-box;margin-bottom: 0.5em;}#sk-container-id-4 div.sk-estimator:hover {background-color: #d4ebff;}#sk-container-id-4 div.sk-parallel-item::after {content: \"\";width: 100%;border-bottom: 1px solid gray;flex-grow: 1;}#sk-container-id-4 div.sk-label:hover label.sk-toggleable__label {background-color: #d4ebff;}#sk-container-id-4 div.sk-serial::before {content: \"\";position: absolute;border-left: 1px solid gray;box-sizing: border-box;top: 0;bottom: 0;left: 50%;z-index: 0;}#sk-container-id-4 div.sk-serial {display: flex;flex-direction: column;align-items: center;background-color: white;padding-right: 0.2em;padding-left: 0.2em;position: relative;}#sk-container-id-4 div.sk-item {position: relative;z-index: 1;}#sk-container-id-4 div.sk-parallel {display: flex;align-items: stretch;justify-content: center;background-color: white;position: relative;}#sk-container-id-4 div.sk-item::before, #sk-container-id-4 div.sk-parallel-item::before {content: \"\";position: absolute;border-left: 1px solid gray;box-sizing: border-box;top: 0;bottom: 0;left: 50%;z-index: -1;}#sk-container-id-4 div.sk-parallel-item {display: flex;flex-direction: column;z-index: 1;position: relative;background-color: white;}#sk-container-id-4 div.sk-parallel-item:first-child::after {align-self: flex-end;width: 50%;}#sk-container-id-4 div.sk-parallel-item:last-child::after {align-self: flex-start;width: 50%;}#sk-container-id-4 div.sk-parallel-item:only-child::after {width: 0;}#sk-container-id-4 div.sk-dashed-wrapped {border: 1px dashed gray;margin: 0 0.4em 0.5em 0.4em;box-sizing: border-box;padding-bottom: 0.4em;background-color: white;}#sk-container-id-4 div.sk-label label {font-family: monospace;font-weight: bold;display: inline-block;line-height: 1.2em;}#sk-container-id-4 div.sk-label-container {text-align: center;}#sk-container-id-4 div.sk-container {/* jupyter's `normalize.less` sets `[hidden] { display: none; }` but bootstrap.min.css set `[hidden] { display: none !important; }` so we also need the `!important` here to be able to override the default hidden behavior on the sphinx rendered scikit-learn.org. See: https://github.com/scikit-learn/scikit-learn/issues/21755 */display: inline-block !important;position: relative;}#sk-container-id-4 div.sk-text-repr-fallback {display: none;}</style><div id=\"sk-container-id-4\" class=\"sk-top-container\"><div class=\"sk-text-repr-fallback\"><pre>XGBRegressor(base_score=None, booster=None, callbacks=None,\n",
       "             colsample_bylevel=None, colsample_bynode=None,\n",
       "             colsample_bytree=None, device=None, early_stopping_rounds=None,\n",
       "             enable_categorical=False, eval_metric=None, feature_types=None,\n",
       "             gamma=None, grow_policy=None, importance_type=None,\n",
       "             interaction_constraints=None, learning_rate=None, max_bin=None,\n",
       "             max_cat_threshold=None, max_cat_to_onehot=None,\n",
       "             max_delta_step=None, max_depth=None, max_leaves=None,\n",
       "             min_child_weight=None, missing=nan, monotone_constraints=None,\n",
       "             multi_strategy=None, n_estimators=None, n_jobs=None,\n",
       "             num_parallel_tree=None, random_state=None, ...)</pre><b>In a Jupyter environment, please rerun this cell to show the HTML representation or trust the notebook. <br />On GitHub, the HTML representation is unable to render, please try loading this page with nbviewer.org.</b></div><div class=\"sk-container\" hidden><div class=\"sk-item\"><div class=\"sk-estimator sk-toggleable\"><input class=\"sk-toggleable__control sk-hidden--visually\" id=\"sk-estimator-id-4\" type=\"checkbox\" checked><label for=\"sk-estimator-id-4\" class=\"sk-toggleable__label sk-toggleable__label-arrow\">XGBRegressor</label><div class=\"sk-toggleable__content\"><pre>XGBRegressor(base_score=None, booster=None, callbacks=None,\n",
       "             colsample_bylevel=None, colsample_bynode=None,\n",
       "             colsample_bytree=None, device=None, early_stopping_rounds=None,\n",
       "             enable_categorical=False, eval_metric=None, feature_types=None,\n",
       "             gamma=None, grow_policy=None, importance_type=None,\n",
       "             interaction_constraints=None, learning_rate=None, max_bin=None,\n",
       "             max_cat_threshold=None, max_cat_to_onehot=None,\n",
       "             max_delta_step=None, max_depth=None, max_leaves=None,\n",
       "             min_child_weight=None, missing=nan, monotone_constraints=None,\n",
       "             multi_strategy=None, n_estimators=None, n_jobs=None,\n",
       "             num_parallel_tree=None, random_state=None, ...)</pre></div></div></div></div></div>"
      ],
      "text/plain": [
       "XGBRegressor(base_score=None, booster=None, callbacks=None,\n",
       "             colsample_bylevel=None, colsample_bynode=None,\n",
       "             colsample_bytree=None, device=None, early_stopping_rounds=None,\n",
       "             enable_categorical=False, eval_metric=None, feature_types=None,\n",
       "             gamma=None, grow_policy=None, importance_type=None,\n",
       "             interaction_constraints=None, learning_rate=None, max_bin=None,\n",
       "             max_cat_threshold=None, max_cat_to_onehot=None,\n",
       "             max_delta_step=None, max_depth=None, max_leaves=None,\n",
       "             min_child_weight=None, missing=nan, monotone_constraints=None,\n",
       "             multi_strategy=None, n_estimators=None, n_jobs=None,\n",
       "             num_parallel_tree=None, random_state=None, ...)"
      ]
     },
     "execution_count": 187,
     "metadata": {},
     "output_type": "execute_result"
    }
   ],
   "source": [
    "from sklearn.linear_model import LinearRegression\n",
    "import xgboost as xgb\n",
    "\n",
    "regressor = LinearRegression() # Instatiate LinearREgression object\n",
    "regressor=xgb.XGBRegressor()\n",
    "regressor.fit(X_train, y_train) # fit the model\n",
    "\n",
    "\n"
   ]
  },
  {
   "cell_type": "code",
   "execution_count": 188,
   "metadata": {},
   "outputs": [
    {
     "data": {
      "text/plain": [
       "array([857404.25, 175887.53, 191734.7 , ..., 384218.8 , 502736.7 ,\n",
       "       404875.1 ], dtype=float32)"
      ]
     },
     "execution_count": 188,
     "metadata": {},
     "output_type": "execute_result"
    }
   ],
   "source": [
    "y_pred = regressor.predict(X_test)\n",
    "y_pred\n"
   ]
  },
  {
   "cell_type": "code",
   "execution_count": 189,
   "metadata": {},
   "outputs": [
    {
     "data": {
      "text/plain": [
       "26234   -112404.250000\n",
       "23085     73112.468750\n",
       "35627     -9234.703125\n",
       "33700     77700.843750\n",
       "10702    -19625.125000\n",
       "             ...      \n",
       "14547    -22008.500000\n",
       "24910     -8300.093750\n",
       "34249    -35218.812500\n",
       "19354   -115236.687500\n",
       "3900      94124.906250\n",
       "Name: price, Length: 13123, dtype: float64"
      ]
     },
     "execution_count": 189,
     "metadata": {},
     "output_type": "execute_result"
    }
   ],
   "source": [
    "\n",
    "residuals = y_test - y_pred\n",
    "residuals"
   ]
  },
  {
   "cell_type": "code",
   "execution_count": 190,
   "metadata": {},
   "outputs": [
    {
     "data": {
      "text/plain": [
       "0.6432043478047742"
      ]
     },
     "execution_count": 190,
     "metadata": {},
     "output_type": "execute_result"
    }
   ],
   "source": [
    "score = r2_score(y_test, y_pred)\n",
    "score"
   ]
  },
  {
   "cell_type": "code",
   "execution_count": 191,
   "metadata": {},
   "outputs": [
    {
     "name": "stdout",
     "output_type": "stream",
     "text": [
      "117884.27110083442\n"
     ]
    }
   ],
   "source": [
    "from sklearn.metrics import mean_absolute_error\n",
    "mae = mean_absolute_error(y_test, y_pred)\n",
    "print(mae)"
   ]
  }
 ],
 "metadata": {
  "kernelspec": {
   "display_name": "base",
   "language": "python",
   "name": "python3"
  },
  "language_info": {
   "codemirror_mode": {
    "name": "ipython",
    "version": 3
   },
   "file_extension": ".py",
   "mimetype": "text/x-python",
   "name": "python",
   "nbconvert_exporter": "python",
   "pygments_lexer": "ipython3",
   "version": "3.11.7"
  }
 },
 "nbformat": 4,
 "nbformat_minor": 2
}
