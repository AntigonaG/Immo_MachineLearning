{
 "cells": [
  {
   "cell_type": "code",
   "execution_count": 59,
   "metadata": {},
   "outputs": [],
   "source": [
    "import pandas as pd\n",
    "import numpy as np\n",
    "import matplotlib.pyplot as plt\n",
    "import seaborn as sns\n",
    "from sklearn.datasets import make_regression\n",
    "from sklearn.preprocessing import OneHotEncoder\n",
    "from sklearn.model_selection import train_test_split \n",
    "from sklearn.linear_model import LinearRegression\n",
    "from sklearn.metrics import mean_absolute_error,mean_squared_error, r2_score"
   ]
  },
  {
   "cell_type": "code",
   "execution_count": 60,
   "metadata": {},
   "outputs": [
    {
     "name": "stdout",
     "output_type": "stream",
     "text": [
      "<class 'pandas.core.frame.DataFrame'>\n",
      "RangeIndex: 104396 entries, 0 to 104395\n",
      "Data columns (total 12 columns):\n",
      " #   Column                Non-Null Count   Dtype  \n",
      "---  ------                --------------   -----  \n",
      " 0   bathroom_count        104396 non-null  int64  \n",
      " 1   bedroom_count         104396 non-null  int64  \n",
      " 2   garden                104396 non-null  float64\n",
      " 3   kitchen               57594 non-null   object \n",
      " 4   living_area           104396 non-null  float64\n",
      " 5   price                 104396 non-null  int64  \n",
      " 6   surface_of_plot       104396 non-null  float64\n",
      " 7   swimming_pool         104396 non-null  float64\n",
      " 8   terrace               104396 non-null  float64\n",
      " 9   PEB_grade             104396 non-null  int64  \n",
      " 10  Building_state_grade  104396 non-null  int64  \n",
      " 11  pricesqm              104396 non-null  float64\n",
      "dtypes: float64(6), int64(5), object(1)\n",
      "memory usage: 9.6+ MB\n"
     ]
    }
   ],
   "source": [
    "df = pd.read_csv(r'C:\\Users\\admin\\Documents\\becode_projects\\second_df.csv')\n",
    "del df['Unnamed: 0']\n",
    "df = df.dropna(subset=['bathroom_count'])\n",
    "df = df.dropna(subset=['bedroom_count'])\n",
    "df = df.dropna(subset=['construction_year'])\n",
    "df = df.dropna(subset=['district'])\n",
    "df[\"garden\"].fillna(0, inplace = True)\n",
    "del df['flooding_zone']\n",
    "del df['garden_area']\n",
    "del df['number_of_facades']\n",
    "del df['subtype_of_property']\n",
    "del df['room_count']\n",
    "del df['district']\n",
    "del df['locality']\n",
    "del df['type_of_sale']\n",
    "del df['construction_year']\n",
    "del df['type_of_property']\n",
    "\n",
    "df.info()"
   ]
  },
  {
   "cell_type": "code",
   "execution_count": 61,
   "metadata": {},
   "outputs": [],
   "source": [
    "kitchen_grade = {'USA_HYPER_EQUIPPED': 8,\n",
    " 'USA_SEMI_EQUIPPED': 7,\n",
    " 'USA_INSTALLED': 6,\n",
    " 'HYPER_EQUIPPED': 5,\n",
    " 'SEMI_EQUIPPED': 4,\n",
    " 'INSTALLED': 3,\n",
    " 'USA_UNINSTALLED': 2,\n",
    " 'NOT_INSTALLED': 1}\n",
    "df['kitchen_grade'] = df['kitchen'].map(kitchen_grade)\n",
    "\n",
    "del df['kitchen']\n",
    "\n",
    "df.to_csv(\"kitchen_data.csv\", index = True)"
   ]
  },
  {
   "cell_type": "code",
   "execution_count": 62,
   "metadata": {},
   "outputs": [],
   "source": [
    "df[\"kitchen_grade\"].fillna(0, inplace = True)"
   ]
  },
  {
   "cell_type": "code",
   "execution_count": 63,
   "metadata": {},
   "outputs": [],
   "source": [
    "X = df.drop(columns=[\"price\"]).to_numpy()\n",
    "y = df.price.to_numpy().reshape(-1 , 1)"
   ]
  },
  {
   "cell_type": "code",
   "execution_count": 64,
   "metadata": {},
   "outputs": [
    {
     "name": "stdout",
     "output_type": "stream",
     "text": [
      "X shape:  (104396, 11)\n",
      "y shape:  (104396, 1)\n"
     ]
    }
   ],
   "source": [
    "print(\"X shape: \", X.shape)\n",
    "print(\"y shape: \", y.shape)"
   ]
  },
  {
   "cell_type": "code",
   "execution_count": 65,
   "metadata": {},
   "outputs": [
    {
     "data": {
      "text/html": [
       "<div>\n",
       "<style scoped>\n",
       "    .dataframe tbody tr th:only-of-type {\n",
       "        vertical-align: middle;\n",
       "    }\n",
       "\n",
       "    .dataframe tbody tr th {\n",
       "        vertical-align: top;\n",
       "    }\n",
       "\n",
       "    .dataframe thead th {\n",
       "        text-align: right;\n",
       "    }\n",
       "</style>\n",
       "<table border=\"1\" class=\"dataframe\">\n",
       "  <thead>\n",
       "    <tr style=\"text-align: right;\">\n",
       "      <th></th>\n",
       "      <th>bathroom_count</th>\n",
       "      <th>bedroom_count</th>\n",
       "      <th>garden</th>\n",
       "      <th>living_area</th>\n",
       "      <th>price</th>\n",
       "      <th>surface_of_plot</th>\n",
       "      <th>swimming_pool</th>\n",
       "      <th>terrace</th>\n",
       "      <th>PEB_grade</th>\n",
       "      <th>Building_state_grade</th>\n",
       "      <th>pricesqm</th>\n",
       "      <th>kitchen_grade</th>\n",
       "    </tr>\n",
       "  </thead>\n",
       "  <tbody>\n",
       "    <tr>\n",
       "      <th>bathroom_count</th>\n",
       "      <td>1.000000</td>\n",
       "      <td>0.328871</td>\n",
       "      <td>0.075129</td>\n",
       "      <td>0.354800</td>\n",
       "      <td>0.362041</td>\n",
       "      <td>0.003483</td>\n",
       "      <td>0.124988</td>\n",
       "      <td>0.067040</td>\n",
       "      <td>-0.004036</td>\n",
       "      <td>0.050589</td>\n",
       "      <td>0.082427</td>\n",
       "      <td>0.102338</td>\n",
       "    </tr>\n",
       "    <tr>\n",
       "      <th>bedroom_count</th>\n",
       "      <td>0.328871</td>\n",
       "      <td>1.000000</td>\n",
       "      <td>0.148157</td>\n",
       "      <td>0.514727</td>\n",
       "      <td>0.317530</td>\n",
       "      <td>0.003647</td>\n",
       "      <td>0.102085</td>\n",
       "      <td>-0.009267</td>\n",
       "      <td>-0.100020</td>\n",
       "      <td>-0.046478</td>\n",
       "      <td>-0.063421</td>\n",
       "      <td>0.028672</td>\n",
       "    </tr>\n",
       "    <tr>\n",
       "      <th>garden</th>\n",
       "      <td>0.075129</td>\n",
       "      <td>0.148157</td>\n",
       "      <td>1.000000</td>\n",
       "      <td>0.160840</td>\n",
       "      <td>0.041848</td>\n",
       "      <td>0.006548</td>\n",
       "      <td>0.068840</td>\n",
       "      <td>0.135637</td>\n",
       "      <td>-0.097012</td>\n",
       "      <td>-0.004827</td>\n",
       "      <td>-0.089469</td>\n",
       "      <td>0.107857</td>\n",
       "    </tr>\n",
       "    <tr>\n",
       "      <th>living_area</th>\n",
       "      <td>0.354800</td>\n",
       "      <td>0.514727</td>\n",
       "      <td>0.160840</td>\n",
       "      <td>1.000000</td>\n",
       "      <td>0.478909</td>\n",
       "      <td>0.014165</td>\n",
       "      <td>0.218513</td>\n",
       "      <td>-0.034964</td>\n",
       "      <td>-0.111401</td>\n",
       "      <td>-0.030370</td>\n",
       "      <td>-0.056982</td>\n",
       "      <td>0.027894</td>\n",
       "    </tr>\n",
       "    <tr>\n",
       "      <th>price</th>\n",
       "      <td>0.362041</td>\n",
       "      <td>0.317530</td>\n",
       "      <td>0.041848</td>\n",
       "      <td>0.478909</td>\n",
       "      <td>1.000000</td>\n",
       "      <td>0.010456</td>\n",
       "      <td>0.227206</td>\n",
       "      <td>0.043389</td>\n",
       "      <td>0.103774</td>\n",
       "      <td>0.146345</td>\n",
       "      <td>0.287854</td>\n",
       "      <td>0.096995</td>\n",
       "    </tr>\n",
       "    <tr>\n",
       "      <th>surface_of_plot</th>\n",
       "      <td>0.003483</td>\n",
       "      <td>0.003647</td>\n",
       "      <td>0.006548</td>\n",
       "      <td>0.014165</td>\n",
       "      <td>0.010456</td>\n",
       "      <td>1.000000</td>\n",
       "      <td>0.024088</td>\n",
       "      <td>0.002421</td>\n",
       "      <td>-0.000254</td>\n",
       "      <td>-0.000428</td>\n",
       "      <td>0.000695</td>\n",
       "      <td>-0.001532</td>\n",
       "    </tr>\n",
       "    <tr>\n",
       "      <th>swimming_pool</th>\n",
       "      <td>0.124988</td>\n",
       "      <td>0.102085</td>\n",
       "      <td>0.068840</td>\n",
       "      <td>0.218513</td>\n",
       "      <td>0.227206</td>\n",
       "      <td>0.024088</td>\n",
       "      <td>1.000000</td>\n",
       "      <td>0.067486</td>\n",
       "      <td>0.013568</td>\n",
       "      <td>0.077974</td>\n",
       "      <td>-0.001261</td>\n",
       "      <td>0.074187</td>\n",
       "    </tr>\n",
       "    <tr>\n",
       "      <th>terrace</th>\n",
       "      <td>0.067040</td>\n",
       "      <td>-0.009267</td>\n",
       "      <td>0.135637</td>\n",
       "      <td>-0.034964</td>\n",
       "      <td>0.043389</td>\n",
       "      <td>0.002421</td>\n",
       "      <td>0.067486</td>\n",
       "      <td>1.000000</td>\n",
       "      <td>0.119752</td>\n",
       "      <td>0.102786</td>\n",
       "      <td>0.008718</td>\n",
       "      <td>0.209066</td>\n",
       "    </tr>\n",
       "    <tr>\n",
       "      <th>PEB_grade</th>\n",
       "      <td>-0.004036</td>\n",
       "      <td>-0.100020</td>\n",
       "      <td>-0.097012</td>\n",
       "      <td>-0.111401</td>\n",
       "      <td>0.103774</td>\n",
       "      <td>-0.000254</td>\n",
       "      <td>0.013568</td>\n",
       "      <td>0.119752</td>\n",
       "      <td>1.000000</td>\n",
       "      <td>0.389012</td>\n",
       "      <td>0.056669</td>\n",
       "      <td>0.045160</td>\n",
       "    </tr>\n",
       "    <tr>\n",
       "      <th>Building_state_grade</th>\n",
       "      <td>0.050589</td>\n",
       "      <td>-0.046478</td>\n",
       "      <td>-0.004827</td>\n",
       "      <td>-0.030370</td>\n",
       "      <td>0.146345</td>\n",
       "      <td>-0.000428</td>\n",
       "      <td>0.077974</td>\n",
       "      <td>0.102786</td>\n",
       "      <td>0.389012</td>\n",
       "      <td>1.000000</td>\n",
       "      <td>0.080988</td>\n",
       "      <td>0.141265</td>\n",
       "    </tr>\n",
       "    <tr>\n",
       "      <th>pricesqm</th>\n",
       "      <td>0.082427</td>\n",
       "      <td>-0.063421</td>\n",
       "      <td>-0.089469</td>\n",
       "      <td>-0.056982</td>\n",
       "      <td>0.287854</td>\n",
       "      <td>0.000695</td>\n",
       "      <td>-0.001261</td>\n",
       "      <td>0.008718</td>\n",
       "      <td>0.056669</td>\n",
       "      <td>0.080988</td>\n",
       "      <td>1.000000</td>\n",
       "      <td>0.065668</td>\n",
       "    </tr>\n",
       "    <tr>\n",
       "      <th>kitchen_grade</th>\n",
       "      <td>0.102338</td>\n",
       "      <td>0.028672</td>\n",
       "      <td>0.107857</td>\n",
       "      <td>0.027894</td>\n",
       "      <td>0.096995</td>\n",
       "      <td>-0.001532</td>\n",
       "      <td>0.074187</td>\n",
       "      <td>0.209066</td>\n",
       "      <td>0.045160</td>\n",
       "      <td>0.141265</td>\n",
       "      <td>0.065668</td>\n",
       "      <td>1.000000</td>\n",
       "    </tr>\n",
       "  </tbody>\n",
       "</table>\n",
       "</div>"
      ],
      "text/plain": [
       "                      bathroom_count  bedroom_count    garden  living_area  \\\n",
       "bathroom_count              1.000000       0.328871  0.075129     0.354800   \n",
       "bedroom_count               0.328871       1.000000  0.148157     0.514727   \n",
       "garden                      0.075129       0.148157  1.000000     0.160840   \n",
       "living_area                 0.354800       0.514727  0.160840     1.000000   \n",
       "price                       0.362041       0.317530  0.041848     0.478909   \n",
       "surface_of_plot             0.003483       0.003647  0.006548     0.014165   \n",
       "swimming_pool               0.124988       0.102085  0.068840     0.218513   \n",
       "terrace                     0.067040      -0.009267  0.135637    -0.034964   \n",
       "PEB_grade                  -0.004036      -0.100020 -0.097012    -0.111401   \n",
       "Building_state_grade        0.050589      -0.046478 -0.004827    -0.030370   \n",
       "pricesqm                    0.082427      -0.063421 -0.089469    -0.056982   \n",
       "kitchen_grade               0.102338       0.028672  0.107857     0.027894   \n",
       "\n",
       "                         price  surface_of_plot  swimming_pool   terrace  \\\n",
       "bathroom_count        0.362041         0.003483       0.124988  0.067040   \n",
       "bedroom_count         0.317530         0.003647       0.102085 -0.009267   \n",
       "garden                0.041848         0.006548       0.068840  0.135637   \n",
       "living_area           0.478909         0.014165       0.218513 -0.034964   \n",
       "price                 1.000000         0.010456       0.227206  0.043389   \n",
       "surface_of_plot       0.010456         1.000000       0.024088  0.002421   \n",
       "swimming_pool         0.227206         0.024088       1.000000  0.067486   \n",
       "terrace               0.043389         0.002421       0.067486  1.000000   \n",
       "PEB_grade             0.103774        -0.000254       0.013568  0.119752   \n",
       "Building_state_grade  0.146345        -0.000428       0.077974  0.102786   \n",
       "pricesqm              0.287854         0.000695      -0.001261  0.008718   \n",
       "kitchen_grade         0.096995        -0.001532       0.074187  0.209066   \n",
       "\n",
       "                      PEB_grade  Building_state_grade  pricesqm  kitchen_grade  \n",
       "bathroom_count        -0.004036              0.050589  0.082427       0.102338  \n",
       "bedroom_count         -0.100020             -0.046478 -0.063421       0.028672  \n",
       "garden                -0.097012             -0.004827 -0.089469       0.107857  \n",
       "living_area           -0.111401             -0.030370 -0.056982       0.027894  \n",
       "price                  0.103774              0.146345  0.287854       0.096995  \n",
       "surface_of_plot       -0.000254             -0.000428  0.000695      -0.001532  \n",
       "swimming_pool          0.013568              0.077974 -0.001261       0.074187  \n",
       "terrace                0.119752              0.102786  0.008718       0.209066  \n",
       "PEB_grade              1.000000              0.389012  0.056669       0.045160  \n",
       "Building_state_grade   0.389012              1.000000  0.080988       0.141265  \n",
       "pricesqm               0.056669              0.080988  1.000000       0.065668  \n",
       "kitchen_grade          0.045160              0.141265  0.065668       1.000000  "
      ]
     },
     "execution_count": 65,
     "metadata": {},
     "output_type": "execute_result"
    }
   ],
   "source": [
    "df.corr()"
   ]
  },
  {
   "cell_type": "code",
   "execution_count": 66,
   "metadata": {},
   "outputs": [
    {
     "name": "stderr",
     "output_type": "stream",
     "text": [
      "c:\\Users\\admin\\anaconda3\\Lib\\site-packages\\seaborn\\matrix.py:250: FutureWarning: Format strings passed to MaskedConstant are ignored, but in future may error or produce different behavior\n",
      "  annotation = (\"{:\" + self.fmt + \"}\").format(val)\n"
     ]
    },
    {
     "data": {
      "image/png": "[encoded data removed]",
      "text/plain": [
       "<Figure size 640x480 with 2 Axes>"
      ]
     },
     "metadata": {},
     "output_type": "display_data"
    }
   ],
   "source": [
    "\n",
    "corr_matrix = df.corr()\n",
    "corr_matrix_np = corr_matrix.values\n",
    "np.fill_diagonal(corr_matrix_np, 1)\n",
    "corr_matrix = pd.DataFrame(corr_matrix_np, index=corr_matrix.index, columns=corr_matrix.columns)\n",
    "mask = np.triu(np.ones_like(corr_matrix, dtype=bool))\n",
    "sns.heatmap(corr_matrix, mask=mask, annot=True, cmap=\"inferno\", vmax=1, vmin=-1, fmt='.1f')\n",
    "plt.title(\"Correlations\")\n",
    "plt.show()"
   ]
  },
  {
   "cell_type": "code",
   "execution_count": 67,
   "metadata": {},
   "outputs": [],
   "source": [
    "\n",
    "X_train, X_test, y_train, y_test = train_test_split(X, y, test_size=0.2, random_state=42)"
   ]
  },
  {
   "cell_type": "code",
   "execution_count": 68,
   "metadata": {},
   "outputs": [
    {
     "name": "stdout",
     "output_type": "stream",
     "text": [
      "Shape of X_train:  (83516, 11)\n",
      "Shape of X_test:  (20880, 11)\n",
      "Shape of y_train:  (83516, 1)\n",
      "Shape of y_test:  (20880, 1)\n"
     ]
    }
   ],
   "source": [
    "print(\"Shape of X_train: \", X_train.shape)\n",
    "print(\"Shape of X_test: \", X_test.shape)\n",
    "print(\"Shape of y_train: \", y_train.shape)\n",
    "print(\"Shape of y_test: \", y_test.shape)"
   ]
  },
  {
   "cell_type": "code",
   "execution_count": 69,
   "metadata": {},
   "outputs": [
    {
     "data": {
      "text/html": [
       "<style>#sk-container-id-2 {color: black;background-color: white;}#sk-container-id-2 pre{padding: 0;}#sk-container-id-2 div.sk-toggleable {background-color: white;}#sk-container-id-2 label.sk-toggleable__label {cursor: pointer;display: block;width: 100%;margin-bottom: 0;padding: 0.3em;box-sizing: border-box;text-align: center;}#sk-container-id-2 label.sk-toggleable__label-arrow:before {content: \"▸\";float: left;margin-right: 0.25em;color: #696969;}#sk-container-id-2 label.sk-toggleable__label-arrow:hover:before {color: black;}#sk-container-id-2 div.sk-estimator:hover label.sk-toggleable__label-arrow:before {color: black;}#sk-container-id-2 div.sk-toggleable__content {max-height: 0;max-width: 0;overflow: hidden;text-align: left;background-color: #f0f8ff;}#sk-container-id-2 div.sk-toggleable__content pre {margin: 0.2em;color: black;border-radius: 0.25em;background-color: #f0f8ff;}#sk-container-id-2 input.sk-toggleable__control:checked~div.sk-toggleable__content {max-height: 200px;max-width: 100%;overflow: auto;}#sk-container-id-2 input.sk-toggleable__control:checked~label.sk-toggleable__label-arrow:before {content: \"▾\";}#sk-container-id-2 div.sk-estimator input.sk-toggleable__control:checked~label.sk-toggleable__label {background-color: #d4ebff;}#sk-container-id-2 div.sk-label input.sk-toggleable__control:checked~label.sk-toggleable__label {background-color: #d4ebff;}#sk-container-id-2 input.sk-hidden--visually {border: 0;clip: rect(1px 1px 1px 1px);clip: rect(1px, 1px, 1px, 1px);height: 1px;margin: -1px;overflow: hidden;padding: 0;position: absolute;width: 1px;}#sk-container-id-2 div.sk-estimator {font-family: monospace;background-color: #f0f8ff;border: 1px dotted black;border-radius: 0.25em;box-sizing: border-box;margin-bottom: 0.5em;}#sk-container-id-2 div.sk-estimator:hover {background-color: #d4ebff;}#sk-container-id-2 div.sk-parallel-item::after {content: \"\";width: 100%;border-bottom: 1px solid gray;flex-grow: 1;}#sk-container-id-2 div.sk-label:hover label.sk-toggleable__label {background-color: #d4ebff;}#sk-container-id-2 div.sk-serial::before {content: \"\";position: absolute;border-left: 1px solid gray;box-sizing: border-box;top: 0;bottom: 0;left: 50%;z-index: 0;}#sk-container-id-2 div.sk-serial {display: flex;flex-direction: column;align-items: center;background-color: white;padding-right: 0.2em;padding-left: 0.2em;position: relative;}#sk-container-id-2 div.sk-item {position: relative;z-index: 1;}#sk-container-id-2 div.sk-parallel {display: flex;align-items: stretch;justify-content: center;background-color: white;position: relative;}#sk-container-id-2 div.sk-item::before, #sk-container-id-2 div.sk-parallel-item::before {content: \"\";position: absolute;border-left: 1px solid gray;box-sizing: border-box;top: 0;bottom: 0;left: 50%;z-index: -1;}#sk-container-id-2 div.sk-parallel-item {display: flex;flex-direction: column;z-index: 1;position: relative;background-color: white;}#sk-container-id-2 div.sk-parallel-item:first-child::after {align-self: flex-end;width: 50%;}#sk-container-id-2 div.sk-parallel-item:last-child::after {align-self: flex-start;width: 50%;}#sk-container-id-2 div.sk-parallel-item:only-child::after {width: 0;}#sk-container-id-2 div.sk-dashed-wrapped {border: 1px dashed gray;margin: 0 0.4em 0.5em 0.4em;box-sizing: border-box;padding-bottom: 0.4em;background-color: white;}#sk-container-id-2 div.sk-label label {font-family: monospace;font-weight: bold;display: inline-block;line-height: 1.2em;}#sk-container-id-2 div.sk-label-container {text-align: center;}#sk-container-id-2 div.sk-container {/* jupyter's `normalize.less` sets `[hidden] { display: none; }` but bootstrap.min.css set `[hidden] { display: none !important; }` so we also need the `!important` here to be able to override the default hidden behavior on the sphinx rendered scikit-learn.org. See: https://github.com/scikit-learn/scikit-learn/issues/21755 */display: inline-block !important;position: relative;}#sk-container-id-2 div.sk-text-repr-fallback {display: none;}</style><div id=\"sk-container-id-2\" class=\"sk-top-container\"><div class=\"sk-text-repr-fallback\"><pre>LinearRegression()</pre><b>In a Jupyter environment, please rerun this cell to show the HTML representation or trust the notebook. <br />On GitHub, the HTML representation is unable to render, please try loading this page with nbviewer.org.</b></div><div class=\"sk-container\" hidden><div class=\"sk-item\"><div class=\"sk-estimator sk-toggleable\"><input class=\"sk-toggleable__control sk-hidden--visually\" id=\"sk-estimator-id-2\" type=\"checkbox\" checked><label for=\"sk-estimator-id-2\" class=\"sk-toggleable__label sk-toggleable__label-arrow\">LinearRegression</label><div class=\"sk-toggleable__content\"><pre>LinearRegression()</pre></div></div></div></div></div>"
      ],
      "text/plain": [
       "LinearRegression()"
      ]
     },
     "execution_count": 69,
     "metadata": {},
     "output_type": "execute_result"
    }
   ],
   "source": [
    "from sklearn.linear_model import LinearRegression\n",
    "regressor = LinearRegression()\n",
    "regressor = LinearRegression() # Instatiate LinearREgression object\n",
    "regressor.fit(X_train, y_train) # fit the model"
   ]
  },
  {
   "cell_type": "code",
   "execution_count": 70,
   "metadata": {},
   "outputs": [
    {
     "data": {
      "text/plain": [
       "array([[ 5.52650756e+04,  2.17795411e+04, -2.20372032e+04,\n",
       "         1.66537478e+03,  1.48551545e-03,  3.26014529e+05,\n",
       "         1.36845483e+04,  2.68368419e+04,  2.92870343e+04,\n",
       "         2.14199976e+02,  5.16349479e+03]])"
      ]
     },
     "execution_count": 70,
     "metadata": {},
     "output_type": "execute_result"
    }
   ],
   "source": [
    "regressor.coef_\n"
   ]
  },
  {
   "cell_type": "code",
   "execution_count": 71,
   "metadata": {},
   "outputs": [
    {
     "data": {
      "text/plain": [
       "array([-764240.55246964])"
      ]
     },
     "execution_count": 71,
     "metadata": {},
     "output_type": "execute_result"
    }
   ],
   "source": [
    "regressor.intercept_"
   ]
  },
  {
   "cell_type": "code",
   "execution_count": 72,
   "metadata": {},
   "outputs": [
    {
     "data": {
      "text/plain": [
       "array([[863915.21510472],\n",
       "       [ 65282.68480879],\n",
       "       [289253.94294426],\n",
       "       ...,\n",
       "       [222356.38739891],\n",
       "       [680942.25821242],\n",
       "       [379584.98061476]])"
      ]
     },
     "execution_count": 72,
     "metadata": {},
     "output_type": "execute_result"
    }
   ],
   "source": [
    "y_pred = regressor.predict(X_test)\n",
    "y_pred"
   ]
  },
  {
   "cell_type": "code",
   "execution_count": 73,
   "metadata": {},
   "outputs": [
    {
     "data": {
      "text/plain": [
       "array([[-183915.21510472],\n",
       "       [  60967.31519121],\n",
       "       [ 130746.05705574],\n",
       "       ...,\n",
       "       [  30643.61260109],\n",
       "       [-135942.25821242],\n",
       "       [-184584.98061476]])"
      ]
     },
     "execution_count": 73,
     "metadata": {},
     "output_type": "execute_result"
    }
   ],
   "source": [
    "residuals = y_test - y_pred\n",
    "residuals"
   ]
  },
  {
   "cell_type": "code",
   "execution_count": 74,
   "metadata": {},
   "outputs": [
    {
     "data": {
      "text/plain": [
       "0.42838262394036963"
      ]
     },
     "execution_count": 74,
     "metadata": {},
     "output_type": "execute_result"
    }
   ],
   "source": [
    "score = r2_score(y_test, y_pred)\n",
    "score"
   ]
  },
  {
   "cell_type": "markdown",
   "metadata": {},
   "source": [
    "148592.95746942572"
   ]
  },
  {
   "cell_type": "code",
   "execution_count": 75,
   "metadata": {},
   "outputs": [
    {
     "name": "stdout",
     "output_type": "stream",
     "text": [
      "148592.95746942572\n"
     ]
    }
   ],
   "source": [
    "from sklearn.metrics import mean_absolute_error\n",
    "mae = mean_absolute_error(y_test, y_pred)\n",
    "print(mae)"
   ]
  }
 ],
 "metadata": {
  "kernelspec": {
   "display_name": "base",
   "language": "python",
   "name": "python3"
  },
  "language_info": {
   "codemirror_mode": {
    "name": "ipython",
    "version": 3
   },
   "file_extension": ".py",
   "mimetype": "text/x-python",
   "name": "python",
   "nbconvert_exporter": "python",
   "pygments_lexer": "ipython3",
   "version": "3.11.7"
  }
 },
 "nbformat": 4,
 "nbformat_minor": 2
}
